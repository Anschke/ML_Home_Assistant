{
 "cells": [
  {
   "cell_type": "markdown",
   "metadata": {},
   "source": [
    "# Extract your Home Assistant Data from your SQLite Database"
   ]
  },
  {
   "cell_type": "markdown",
   "metadata": {},
   "source": [
    "## Following Code uses the HASS Data Detective and works for the default SQLite Database\n"
   ]
  },
  {
   "cell_type": "code",
   "execution_count": 7,
   "metadata": {},
   "outputs": [
    {
     "name": "stdout",
     "output_type": "stream",
     "text": [
      "Requirement already up-to-date: HASS-data-detective in /usr/local/lib/python3.6/dist-packages (2.3)\n",
      "Requirement already satisfied, skipping upgrade: ruamel.yaml>=0.15.78 in /usr/local/lib/python3.6/dist-packages (from HASS-data-detective) (0.16.5)\n",
      "Requirement already satisfied, skipping upgrade: pandas>=0.25.0 in /usr/local/lib/python3.6/dist-packages (from HASS-data-detective) (0.25.1)\n",
      "Requirement already satisfied, skipping upgrade: SQLAlchemy>=1.2.8 in /usr/local/lib/python3.6/dist-packages (from HASS-data-detective) (1.3.7)\n",
      "Requirement already satisfied, skipping upgrade: pytz in /usr/local/lib/python3.6/dist-packages (from HASS-data-detective) (2019.2)\n",
      "Requirement already satisfied, skipping upgrade: ruamel.yaml.clib>=0.1.2; platform_python_implementation == \"CPython\" and python_version < \"3.8\" in /usr/local/lib/python3.6/dist-packages (from ruamel.yaml>=0.15.78->HASS-data-detective) (0.1.2)\n",
      "Requirement already satisfied, skipping upgrade: python-dateutil>=2.6.1 in /usr/local/lib/python3.6/dist-packages (from pandas>=0.25.0->HASS-data-detective) (2.8.0)\n",
      "Requirement already satisfied, skipping upgrade: numpy>=1.13.3 in /usr/local/lib/python3.6/dist-packages (from pandas>=0.25.0->HASS-data-detective) (1.17.0)\n",
      "Requirement already satisfied, skipping upgrade: six>=1.5 in /usr/local/lib/python3.6/dist-packages (from python-dateutil>=2.6.1->pandas>=0.25.0->HASS-data-detective) (1.12.0)\n",
      "\u001b[33mWARNING: You are using pip version 19.2.2, however version 20.2.3 is available.\n",
      "You should consider upgrading via the 'pip install --upgrade pip' command.\u001b[0m\n"
     ]
    }
   ],
   "source": [
    "import sys\n",
    "!{sys.executable} -m pip install --upgrade HASS-data-detective # We got to be sure that data detective is up to date\n",
    "\n",
    "import pandas as pd \n",
    "import detective.core as detective\n",
    "import random"
   ]
  },
  {
   "cell_type": "markdown",
   "metadata": {},
   "source": [
    "### To access your Home assistant basic DB, you may either work directly with the DB URL or look it up in your configuration.yaml file. Comment/Uncomment whatever you choose.\n",
    " If you run another supported DB than sqlite, please refer to https://www.home-assistant.io/integrations/recorder/ on how to gain access. "
   ]
  },
  {
   "cell_type": "code",
   "execution_count": 8,
   "metadata": {},
   "outputs": [
    {
     "name": "stdout",
     "output_type": "stream",
     "text": [
      "YAML tag !include_dir_named is not supported\n",
      "YAML tag !include_dir_merge_named is not supported\n",
      "Successfully connected to database sqlite:////config/home-assistant_v2.db\n",
      "There are 143 entities with data\n"
     ]
    }
   ],
   "source": [
    "#db_url_sqlite = \"sqlite:///<<your path to database>>\"\n",
    "#db_url_postgre = \"postgresql://SERVER_IP/DB_NAME\"\n",
    "##db = detective.HassDatabase(db_url)\n",
    "##config_url = \"<<your path to config/ folder>>\"\n",
    "db = detective.db_from_hass_config()"
   ]
  },
  {
   "cell_type": "code",
   "execution_count": 9,
   "metadata": {},
   "outputs": [
    {
     "name": "stdout",
     "output_type": "stream",
     "text": [
      "The returned Pandas dataframe has 50000 rows of data.\n"
     ]
    }
   ],
   "source": [
    "numb = random.randrange(1000)\n",
    "df_sensors = db.fetch_all_sensor_data()\n",
    "df_sensors.to_csv(\"home-assistant_sensors_\"+ str(numb) + \".csv\", index = False)\n",
    "\n",
    "lst_events = db.perform_query(\"SELECT * FROM events\").fetchall()\n",
    "\n",
    "df_events = pd.DataFrame(lst_events)\n",
    "df_events.columns = ['event_id', 'event_type', 'event_data', 'origin', 'time_fired', 'created', 'context_id', 'context_user_id', 'context_parent_id']\n",
    "df_events.to_csv(\"home-assistant_events_\" + str(numb) + \".csv\", index = False)\n"
   ]
  },
  {
   "cell_type": "markdown",
   "metadata": {},
   "source": [
    "### The generated .csv files can be found under /notebooks in your Home Assistant /config folder.  "
   ]
  },
  {
   "cell_type": "code",
   "execution_count": 11,
   "metadata": {},
   "outputs": [
    {
     "name": "stdout",
     "output_type": "stream",
     "text": [
      "       domain                                       entity_id   state  \\\n",
      "0      sensor                                      sensor.hbf      11   \n",
      "1      sensor                            sensor.processor_use      18   \n",
      "2      sensor                               sensor.memory_use   801.0   \n",
      "3      sensor                                sensor.ha_uptime  1229.4   \n",
      "4      sensor  sensor.timelapse_cam_system_sensor_temperature    51.5   \n",
      "...       ...                                             ...     ...   \n",
      "49995  sensor    sensor.timelapse_cam_system_sensor_memoryuse    27.6   \n",
      "49996  sensor  sensor.timelapse_cam_system_sensor_temperature    49.9   \n",
      "49997  sensor                        sensor.pi_37wifistrength     -64   \n",
      "49998  sensor                           sensor.pi_37memoryuse    18.0   \n",
      "49999  sensor                                      sensor.hbf       2   \n",
      "\n",
      "                     last_changed  \\\n",
      "0      2020-09-29 09:44:12.874020   \n",
      "1      2020-09-29 09:44:12.667556   \n",
      "2      2020-09-29 09:44:12.646227   \n",
      "3      2020-09-29 09:44:12.575153   \n",
      "4      2020-09-29 09:43:50.596719   \n",
      "...                           ...   \n",
      "49995  2020-09-26 16:32:51.962083   \n",
      "49996  2020-09-26 16:32:51.957316   \n",
      "49997  2020-09-26 16:32:25.395727   \n",
      "49998  2020-09-26 16:32:25.388455   \n",
      "49999  2020-09-26 16:32:20.827651   \n",
      "\n",
      "                                              attributes  \n",
      "0      {\"attribution\": \"Data provided by MVG-live.de\"...  \n",
      "1      {\"unit_of_measurement\": \"%\", \"friendly_name\": ...  \n",
      "2      {\"unit_of_measurement\": \"MiB\", \"friendly_name\"...  \n",
      "3      {\"unit_of_measurement\": \"minutes\", \"friendly_n...  \n",
      "4      {\"unit_of_measurement\": \"\\u00b0C\", \"friendly_n...  \n",
      "...                                                  ...  \n",
      "49995  {\"unit_of_measurement\": \"%\", \"friendly_name\": ...  \n",
      "49996  {\"unit_of_measurement\": \"\\u00b0C\", \"friendly_n...  \n",
      "49997  {\"unit_of_measurement\": \"dBm\", \"friendly_name\"...  \n",
      "49998  {\"unit_of_measurement\": \"%\", \"friendly_name\": ...  \n",
      "49999  {\"attribution\": \"Data provided by MVG-live.de\"...  \n",
      "\n",
      "[50000 rows x 5 columns]\n"
     ]
    }
   ],
   "source": [
    "#Red and Print the generated .csv files for debug purposes\n",
    "sensors_csv = pd.read_csv('home-assistant_sensors_' + str(numb) + '.csv')\n",
    "sensors_csv.head()\n",
    "print(sensors_csv)"
   ]
  },
  {
   "cell_type": "code",
   "execution_count": 12,
   "metadata": {},
   "outputs": [
    {
     "name": "stdout",
     "output_type": "stream",
     "text": [
      "        event_id          event_type  \\\n",
      "0              1  service_registered   \n",
      "1              2    component_loaded   \n",
      "2              3  service_registered   \n",
      "3              4  service_registered   \n",
      "4              5    component_loaded   \n",
      "...          ...                 ...   \n",
      "150566    150567       state_changed   \n",
      "150567    150568       state_changed   \n",
      "150568    150569       state_changed   \n",
      "150569    150570       state_changed   \n",
      "150570    150571       state_changed   \n",
      "\n",
      "                                          event_data origin  \\\n",
      "0         {\"domain\": \"recorder\", \"service\": \"purge\"}  LOCAL   \n",
      "1                              {\"component\": \"http\"}  LOCAL   \n",
      "2       {\"domain\": \"system_log\", \"service\": \"clear\"}  LOCAL   \n",
      "3       {\"domain\": \"system_log\", \"service\": \"write\"}  LOCAL   \n",
      "4                        {\"component\": \"system_log\"}  LOCAL   \n",
      "...                                              ...    ...   \n",
      "150566                                            {}  LOCAL   \n",
      "150567                                            {}  LOCAL   \n",
      "150568                                            {}  LOCAL   \n",
      "150569                                            {}  LOCAL   \n",
      "150570                                            {}  LOCAL   \n",
      "\n",
      "                        time_fired                     created  \\\n",
      "0       2020-09-22 12:09:13.012936  2020-09-22 12:10:31.148571   \n",
      "1       2020-09-22 12:09:13.169183  2020-09-22 12:10:31.182872   \n",
      "2       2020-09-22 12:09:13.204916  2020-09-22 12:10:31.192750   \n",
      "3       2020-09-22 12:09:13.205307  2020-09-22 12:10:31.200886   \n",
      "4       2020-09-22 12:09:13.206033  2020-09-22 12:10:31.203862   \n",
      "...                            ...                         ...   \n",
      "150566  2020-09-29 09:44:45.087920  2020-09-29 09:44:45.253382   \n",
      "150567  2020-09-29 09:44:52.663553  2020-09-29 09:44:52.701969   \n",
      "150568  2020-09-29 09:44:53.281098  2020-09-29 09:44:53.293085   \n",
      "150569  2020-09-29 09:44:53.311302  2020-09-29 09:44:53.323738   \n",
      "150570  2020-09-29 09:44:53.341317  2020-09-29 09:44:53.354072   \n",
      "\n",
      "                              context_id context_user_id  context_parent_id  \n",
      "0       6d9378bcfccc11eaad09bfb050196342             NaN                NaN  \n",
      "1       6dab52dafccc11eabfdf1934142b144d             NaN                NaN  \n",
      "2       6db0c322fccc11ea94ccbf87cb544f27             NaN                NaN  \n",
      "3       6db0d05cfccc11ea937ac7dc9bc3cb0b             NaN                NaN  \n",
      "4       6db0ecdafccc11ea9ebcc371191e17aa             NaN                NaN  \n",
      "...                                  ...             ...                ...  \n",
      "150566  67fb44c2023811eb8028f3bb6ef6549e             NaN                NaN  \n",
      "150567  6c7f35d9023811ebb7285f0cc29a3b11             NaN                NaN  \n",
      "150568  6cdd72d8023811eba1d2e398652367c5             NaN                NaN  \n",
      "150569  6ce20e8c023811eb8e42ddc47441ab6e             NaN                NaN  \n",
      "150570  6ce6a384023811eba0fdc12415e67bcc             NaN                NaN  \n",
      "\n",
      "[150571 rows x 9 columns]\n"
     ]
    }
   ],
   "source": [
    "events_csv = pd.read_csv('home-assistant_events_' + str(numb) + '.csv')\n",
    "events_csv.head()\n",
    "print(events_csv)"
   ]
  },
  {
   "cell_type": "code",
   "execution_count": null,
   "metadata": {},
   "outputs": [],
   "source": []
  }
 ],
 "metadata": {
  "kernelspec": {
   "display_name": "Python 3",
   "language": "python",
   "name": "python3"
  },
  "language_info": {
   "codemirror_mode": {
    "name": "ipython",
    "version": 3
   },
   "file_extension": ".py",
   "mimetype": "text/x-python",
   "name": "python",
   "nbconvert_exporter": "python",
   "pygments_lexer": "ipython3",
   "version": "3.6.8"
  }
 },
 "nbformat": 4,
 "nbformat_minor": 4
}
